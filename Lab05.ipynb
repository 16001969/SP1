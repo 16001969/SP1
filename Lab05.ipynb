{
  "nbformat": 4,
  "nbformat_minor": 0,
  "metadata": {
    "colab": {
      "name": "Copy of Copy of  lesson5-text-classifier-rnn-entregable.ipynb",
      "provenance": [],
      "collapsed_sections": [],
      "machine_shape": "hm"
    },
    "kernelspec": {
      "name": "python3",
      "display_name": "Python 3"
    }
  },
  "cells": [
    {
      "cell_type": "markdown",
      "metadata": {
        "id": "1omFRG1dn1GK",
        "colab_type": "text"
      },
      "source": [
        "#Imports"
      ]
    },
    {
      "cell_type": "code",
      "metadata": {
        "id": "UUMqIqQflTWa",
        "colab_type": "code",
        "colab": {
          "base_uri": "https://localhost:8080/",
          "height": 34
        },
        "outputId": "8adb7d0d-0f7f-4407-e66a-d96964dbc9b4"
      },
      "source": [
        "%tensorflow_version 2.x\n",
        "\n",
        "import tensorflow as tf\n",
        "import tensorflow_hub as hub\n",
        "import tensorflow_datasets as tfds\n",
        "\n",
        "from tensorflow.keras.models import Sequential\n",
        "from tensorflow.python.keras import models, layers, optimizers\n",
        "from tensorflow.keras.layers import Dense, Embedding, Bidirectional, LSTM, Dropout, Conv1D, MaxPooling1D, GRU\n",
        "from tensorflow.keras.preprocessing.text import Tokenizer, text_to_word_sequence\n",
        "from tensorflow.keras.preprocessing.sequence import pad_sequences\n",
        "\n",
        "from tqdm import tqdm\n",
        "from sklearn.utils import shuffle\n",
        "\n",
        "import numpy as np\n",
        "import matplotlib.pylab as plt\n",
        "\n",
        "import pandas as pd\n",
        "import os, re, json, functools\n",
        "import re\n",
        "import bz2\n",
        "\n",
        "#dark mode\n",
        "plt.rc_context({'xtick.color':'w', 'ytick.color':'w', 'text.color':'w', 'axes.labelcolor':'w'})\n",
        "\n",
        "seed=1234\n",
        "np.random.seed(seed)\n",
        "tf.random.set_seed(seed)"
      ],
      "execution_count": 1,
      "outputs": [
        {
          "output_type": "stream",
          "text": [
            "TensorFlow 2.x selected.\n"
          ],
          "name": "stdout"
        }
      ]
    },
    {
      "cell_type": "code",
      "metadata": {
        "id": "ia0KlyCBoKbf",
        "colab_type": "code",
        "outputId": "e123a9a7-adbb-4af5-ca5f-af7a5781de4a",
        "colab": {
          "base_uri": "https://localhost:8080/",
          "height": 208
        }
      },
      "source": [
        "pip install kaggle --upgrade"
      ],
      "execution_count": 2,
      "outputs": [
        {
          "output_type": "stream",
          "text": [
            "Requirement already up-to-date: kaggle in /usr/local/lib/python3.6/dist-packages (1.5.6)\n",
            "Requirement already satisfied, skipping upgrade: urllib3<1.25,>=1.21.1 in /usr/local/lib/python3.6/dist-packages (from kaggle) (1.24.3)\n",
            "Requirement already satisfied, skipping upgrade: certifi in /tensorflow-2.1.0/python3.6 (from kaggle) (2019.11.28)\n",
            "Requirement already satisfied, skipping upgrade: tqdm in /usr/local/lib/python3.6/dist-packages (from kaggle) (4.28.1)\n",
            "Requirement already satisfied, skipping upgrade: requests in /tensorflow-2.1.0/python3.6 (from kaggle) (2.22.0)\n",
            "Requirement already satisfied, skipping upgrade: python-slugify in /usr/local/lib/python3.6/dist-packages (from kaggle) (4.0.0)\n",
            "Requirement already satisfied, skipping upgrade: python-dateutil in /usr/local/lib/python3.6/dist-packages (from kaggle) (2.6.1)\n",
            "Requirement already satisfied, skipping upgrade: six>=1.10 in /tensorflow-2.1.0/python3.6 (from kaggle) (1.14.0)\n",
            "Requirement already satisfied, skipping upgrade: idna<2.9,>=2.5 in /tensorflow-2.1.0/python3.6 (from requests->kaggle) (2.8)\n",
            "Requirement already satisfied, skipping upgrade: chardet<3.1.0,>=3.0.2 in /tensorflow-2.1.0/python3.6 (from requests->kaggle) (3.0.4)\n",
            "Requirement already satisfied, skipping upgrade: text-unidecode>=1.3 in /usr/local/lib/python3.6/dist-packages (from python-slugify->kaggle) (1.3)\n"
          ],
          "name": "stdout"
        }
      ]
    },
    {
      "cell_type": "code",
      "metadata": {
        "id": "fKert1GfoMiC",
        "colab_type": "code",
        "colab": {}
      },
      "source": [
        "os.environ['KAGGLE_USERNAME'] = \"diegorivera\"\n",
        "os.environ['KAGGLE_KEY'] = \"aa64ec7b061f7ee50f4e98b16ed8cd77\""
      ],
      "execution_count": 0,
      "outputs": []
    },
    {
      "cell_type": "code",
      "metadata": {
        "id": "3qJfgmOOoOLo",
        "colab_type": "code",
        "outputId": "9c5a4833-5dc1-4852-b0ab-a60fdfbc621c",
        "colab": {
          "base_uri": "https://localhost:8080/",
          "height": 69
        }
      },
      "source": [
        "#https://www.kaggle.com/stefanoleone992/fifa-20-complete-player-dataset\n",
        "#!kaggle datasets download -d stefanoleone992/fifa-20-complete-player-dataset\n",
        "!kaggle datasets download -d bittlingmayer/amazonreviews"
      ],
      "execution_count": 4,
      "outputs": [
        {
          "output_type": "stream",
          "text": [
            "Downloading amazonreviews.zip to /content\n",
            "100% 491M/493M [00:02<00:00, 180MB/s]\n",
            "100% 493M/493M [00:02<00:00, 183MB/s]\n"
          ],
          "name": "stdout"
        }
      ]
    },
    {
      "cell_type": "code",
      "metadata": {
        "id": "eMc1dKs6ypCZ",
        "colab_type": "code",
        "outputId": "06355850-1985-4e0d-e6bd-f7ae2b377b71",
        "colab": {
          "base_uri": "https://localhost:8080/",
          "height": 69
        }
      },
      "source": [
        "!unzip -o amazonreviews.zip"
      ],
      "execution_count": 5,
      "outputs": [
        {
          "output_type": "stream",
          "text": [
            "Archive:  amazonreviews.zip\n",
            "  inflating: test.ft.txt.bz2         \n",
            "  inflating: train.ft.txt.bz2        \n"
          ],
          "name": "stdout"
        }
      ]
    },
    {
      "cell_type": "markdown",
      "metadata": {
        "id": "YTs-jTIJtUPz",
        "colab_type": "text"
      },
      "source": [
        "#Dataset"
      ]
    },
    {
      "cell_type": "markdown",
      "metadata": {
        "id": "u0phygt4c4sP",
        "colab_type": "text"
      },
      "source": [
        "READING TEXT"
      ]
    },
    {
      "cell_type": "code",
      "metadata": {
        "id": "iKin6B1yyxxF",
        "colab_type": "code",
        "colab": {}
      },
      "source": [
        "def splitReviewsLabels(lines):\n",
        "    reviews = []\n",
        "    labels = []\n",
        "    for review in tqdm(lines):\n",
        "        rev = reviewToX(review)\n",
        "        label = reviewToY(review)\n",
        "        reviews.append(rev[:512])\n",
        "        labels.append(label)\n",
        "    return reviews, labels"
      ],
      "execution_count": 0,
      "outputs": []
    },
    {
      "cell_type": "code",
      "metadata": {
        "id": "023X0-b4xYgD",
        "colab_type": "code",
        "colab": {}
      },
      "source": [
        "def reviewToY(review):\n",
        "    return [1,0] if review.split(' ')[0] == '__label__1' else [0,1]"
      ],
      "execution_count": 0,
      "outputs": []
    },
    {
      "cell_type": "code",
      "metadata": {
        "id": "SbdwobbBxZLG",
        "colab_type": "code",
        "colab": {}
      },
      "source": [
        "def reviewToX(review):\n",
        "    review = review.split(' ', 1)[1][:-1].lower()\n",
        "    review = re.sub('\\d','0',review)\n",
        "    if 'www.' in review or 'http:' in review or 'https:' in review or '.com' in review:\n",
        "        review = re.sub(r\"([^ ]+(?<=\\.[a-z]{3}))\", \"<url>\", review)\n",
        "    return review"
      ],
      "execution_count": 0,
      "outputs": []
    },
    {
      "cell_type": "code",
      "metadata": {
        "id": "sV76uyFt31nD",
        "colab_type": "code",
        "colab": {}
      },
      "source": [
        "train_file = bz2.BZ2File('/content/train.ft.txt.bz2')\n",
        "test_file = bz2.BZ2File('/content/test.ft.txt.bz2')"
      ],
      "execution_count": 0,
      "outputs": []
    },
    {
      "cell_type": "code",
      "metadata": {
        "id": "yn_KRXKVxr5h",
        "colab_type": "code",
        "colab": {}
      },
      "source": [
        "train_lines = train_file.readlines()\n",
        "test_lines = test_file.readlines()"
      ],
      "execution_count": 0,
      "outputs": []
    },
    {
      "cell_type": "code",
      "metadata": {
        "id": "HV-rsheTxzSD",
        "colab_type": "code",
        "colab": {}
      },
      "source": [
        "train_lines = [x.decode('utf-8') for x in train_lines]\n",
        "test_lines = [x.decode('utf-8') for x in test_lines]"
      ],
      "execution_count": 0,
      "outputs": []
    },
    {
      "cell_type": "code",
      "metadata": {
        "id": "fGRo80l6x0BW",
        "colab_type": "code",
        "outputId": "c7118bb0-9b2c-4eaa-fa7d-6e6e04233d02",
        "colab": {
          "base_uri": "https://localhost:8080/",
          "height": 52
        }
      },
      "source": [
        "reviews_train, y_train = splitReviewsLabels(train_lines)\n",
        "reviews_test, y_test = splitReviewsLabels(test_lines)"
      ],
      "execution_count": 12,
      "outputs": [
        {
          "output_type": "stream",
          "text": [
            "100%|██████████| 3600000/3600000 [00:56<00:00, 63360.16it/s]\n",
            "100%|██████████| 400000/400000 [00:06<00:00, 62122.74it/s]\n"
          ],
          "name": "stderr"
        }
      ]
    },
    {
      "cell_type": "code",
      "metadata": {
        "id": "Yx8b9hNEx68k",
        "colab_type": "code",
        "colab": {}
      },
      "source": [
        "reviews_train, y_train = shuffle(reviews_train, y_train)\n",
        "reviews_test, y_test = shuffle(reviews_test, y_test)"
      ],
      "execution_count": 0,
      "outputs": []
    },
    {
      "cell_type": "code",
      "metadata": {
        "id": "jb8J9jOcyF98",
        "colab_type": "code",
        "colab": {}
      },
      "source": [
        "y_train = np.array(y_train)\n",
        "y_test = np.array(y_test)"
      ],
      "execution_count": 0,
      "outputs": []
    },
    {
      "cell_type": "code",
      "metadata": {
        "id": "2D08N4SryIS8",
        "colab_type": "code",
        "colab": {}
      },
      "source": [
        "max_features = 8192\n",
        "maxlen = 128\n",
        "embed_size = 64"
      ],
      "execution_count": 0,
      "outputs": []
    },
    {
      "cell_type": "code",
      "metadata": {
        "id": "eKmBwJYEyJJj",
        "colab_type": "code",
        "colab": {}
      },
      "source": [
        "tokenizer = Tokenizer(num_words=max_features)\n",
        "tokenizer.fit_on_texts(reviews_train)"
      ],
      "execution_count": 0,
      "outputs": []
    },
    {
      "cell_type": "code",
      "metadata": {
        "id": "tmb6llIaySM7",
        "colab_type": "code",
        "colab": {}
      },
      "source": [
        "token_train = tokenizer.texts_to_sequences(reviews_train)\n",
        "token_test = tokenizer.texts_to_sequences(reviews_test)"
      ],
      "execution_count": 0,
      "outputs": []
    },
    {
      "cell_type": "code",
      "metadata": {
        "id": "1G0TmQ1NyUnt",
        "colab_type": "code",
        "colab": {}
      },
      "source": [
        "x_train = pad_sequences(token_train, maxlen=maxlen, padding='post')\n",
        "x_test = pad_sequences(token_test, maxlen=maxlen, padding='post')"
      ],
      "execution_count": 0,
      "outputs": []
    },
    {
      "cell_type": "markdown",
      "metadata": {
        "id": "QPb7_xPxl67a",
        "colab_type": "text"
      },
      "source": [
        "#Model"
      ]
    },
    {
      "cell_type": "code",
      "metadata": {
        "id": "aocQiaaUaW9A",
        "colab_type": "code",
        "colab": {}
      },
      "source": [
        "EPOCHS = 5\n",
        "STEPS_PER_EPOCH = 32\n",
        "VALIDATION_STEPS = 16"
      ],
      "execution_count": 0,
      "outputs": []
    },
    {
      "cell_type": "code",
      "metadata": {
        "id": "56aOX27cjNCM",
        "colab_type": "code",
        "colab": {}
      },
      "source": [
        "def train(model, epochs=EPOCHS):\n",
        "  model.compile(loss='binary_crossentropy',\n",
        "                optimizer='adam',\n",
        "                metrics=['accuracy'])\n",
        "\n",
        "  return model.fit(x_train, y_train, epochs=epochs,\n",
        "                      steps_per_epoch=STEPS_PER_EPOCH,\n",
        "                      validation_data=(x_test, y_test),\n",
        "                      validation_steps=VALIDATION_STEPS\n",
        "                      )"
      ],
      "execution_count": 0,
      "outputs": []
    },
    {
      "cell_type": "code",
      "metadata": {
        "colab_type": "code",
        "id": "aTr_8nIalH_h",
        "colab": {}
      },
      "source": [
        "def plot_accuracy_and_loss(history):\n",
        "  acc = history.history['accuracy']\n",
        "  val_acc = history.history['val_accuracy']\n",
        "\n",
        "  loss = history.history['loss']\n",
        "  val_loss = history.history['val_loss']\n",
        "\n",
        "  plt.figure(figsize=(10, 10))\n",
        "  plt.subplot(2, 1, 1)\n",
        "  plt.plot(acc, label='Training Accuracy')\n",
        "  plt.plot(val_acc, label='Validation Accuracy')\n",
        "  plt.legend(loc='lower right')\n",
        "  plt.setp(plt.legend().get_texts(), color='black')\n",
        "  plt.ylabel('Accuracy')\n",
        "  plt.ylim([min(plt.ylim()),1.0])\n",
        "  plt.title('Training and Validation Accuracy')\n",
        "\n",
        "  plt.subplot(2, 1, 2)\n",
        "  plt.plot(loss, label='Training Loss')\n",
        "  plt.plot(val_loss, label='Validation Loss')\n",
        "  plt.legend(loc='upper right')\n",
        "  plt.setp(plt.legend().get_texts(), color='black')\n",
        "  plt.ylabel('Cross Entropy')\n",
        "  plt.ylim([0.0,1.0])\n",
        "  plt.title('Training and Validation Loss')\n",
        "  plt.xlabel('epoch')\n",
        "  plt.show()"
      ],
      "execution_count": 0,
      "outputs": []
    },
    {
      "cell_type": "markdown",
      "metadata": {
        "id": "JqHn3V_uNql5",
        "colab_type": "text"
      },
      "source": [
        "##Bidirectional LSTM"
      ]
    },
    {
      "cell_type": "code",
      "metadata": {
        "id": "9A9Ruk68rfZj",
        "colab_type": "code",
        "outputId": "2b7f12e9-22ac-4347-d268-6472797d21db",
        "colab": {
          "base_uri": "https://localhost:8080/",
          "height": 260
        }
      },
      "source": [
        "model = Sequential([\n",
        "    Embedding(max_features, embed_size),\n",
        "    Bidirectional(LSTM(64)),\n",
        "    Dense(2, activation='sigmoid')\n",
        "])\n",
        "\n",
        "model.summary()"
      ],
      "execution_count": 22,
      "outputs": [
        {
          "output_type": "stream",
          "text": [
            "Model: \"sequential\"\n",
            "_________________________________________________________________\n",
            "Layer (type)                 Output Shape              Param #   \n",
            "=================================================================\n",
            "embedding (Embedding)        (None, None, 64)          524288    \n",
            "_________________________________________________________________\n",
            "bidirectional (Bidirectional (None, 128)               66048     \n",
            "_________________________________________________________________\n",
            "dense (Dense)                (None, 2)                 258       \n",
            "=================================================================\n",
            "Total params: 590,594\n",
            "Trainable params: 590,594\n",
            "Non-trainable params: 0\n",
            "_________________________________________________________________\n"
          ],
          "name": "stdout"
        }
      ]
    },
    {
      "cell_type": "code",
      "metadata": {
        "id": "CaIRFDzhjcPm",
        "colab_type": "code",
        "outputId": "274b22ee-81d8-4543-bb66-e3753f48758a",
        "colab": {
          "base_uri": "https://localhost:8080/",
          "height": 52
        }
      },
      "source": [
        "history = train(model)\n",
        "plot_accuracy_and_loss(history)"
      ],
      "execution_count": 0,
      "outputs": [
        {
          "output_type": "stream",
          "text": [
            "Train on 3600000 samples, validate on 400000 samples\n",
            "Epoch 1/5\n"
          ],
          "name": "stdout"
        }
      ]
    },
    {
      "cell_type": "markdown",
      "metadata": {
        "id": "RYcv9FFoNxWG",
        "colab_type": "text"
      },
      "source": [
        "##Stack LSTM"
      ]
    },
    {
      "cell_type": "code",
      "metadata": {
        "id": "Nme8xC8Bq-3v",
        "colab_type": "code",
        "outputId": "bbb3f379-d3e0-4943-a49b-886b2b64fa26",
        "colab": {
          "base_uri": "https://localhost:8080/",
          "height": 235
        }
      },
      "source": [
        "model = Sequential([\n",
        "    Embedding(encoder.vocab_size, 32, mask_zero=True),\n",
        "    Bidirectional(LSTM(64,  return_sequences=True)),\n",
        "    Bidirectional(LSTM(32)),\n",
        "    Dense(1, activation='sigmoid')\n",
        "])\n",
        "\n",
        "model.summary()"
      ],
      "execution_count": 0,
      "outputs": [
        {
          "output_type": "error",
          "ename": "NameError",
          "evalue": "ignored",
          "traceback": [
            "\u001b[0;31m---------------------------------------------------------------------------\u001b[0m",
            "\u001b[0;31mNameError\u001b[0m                                 Traceback (most recent call last)",
            "\u001b[0;32m<ipython-input-47-d25dee97201e>\u001b[0m in \u001b[0;36m<module>\u001b[0;34m()\u001b[0m\n\u001b[1;32m      1\u001b[0m model = Sequential([\n\u001b[0;32m----> 2\u001b[0;31m     \u001b[0mEmbedding\u001b[0m\u001b[0;34m(\u001b[0m\u001b[0mencoder\u001b[0m\u001b[0;34m.\u001b[0m\u001b[0mvocab_size\u001b[0m\u001b[0;34m,\u001b[0m \u001b[0;36m32\u001b[0m\u001b[0;34m,\u001b[0m \u001b[0mmask_zero\u001b[0m\u001b[0;34m=\u001b[0m\u001b[0;32mTrue\u001b[0m\u001b[0;34m)\u001b[0m\u001b[0;34m,\u001b[0m\u001b[0;34m\u001b[0m\u001b[0;34m\u001b[0m\u001b[0m\n\u001b[0m\u001b[1;32m      3\u001b[0m     \u001b[0mBidirectional\u001b[0m\u001b[0;34m(\u001b[0m\u001b[0mLSTM\u001b[0m\u001b[0;34m(\u001b[0m\u001b[0;36m64\u001b[0m\u001b[0;34m,\u001b[0m  \u001b[0mreturn_sequences\u001b[0m\u001b[0;34m=\u001b[0m\u001b[0;32mTrue\u001b[0m\u001b[0;34m)\u001b[0m\u001b[0;34m)\u001b[0m\u001b[0;34m,\u001b[0m\u001b[0;34m\u001b[0m\u001b[0;34m\u001b[0m\u001b[0m\n\u001b[1;32m      4\u001b[0m     \u001b[0mBidirectional\u001b[0m\u001b[0;34m(\u001b[0m\u001b[0mLSTM\u001b[0m\u001b[0;34m(\u001b[0m\u001b[0;36m32\u001b[0m\u001b[0;34m)\u001b[0m\u001b[0;34m)\u001b[0m\u001b[0;34m,\u001b[0m\u001b[0;34m\u001b[0m\u001b[0;34m\u001b[0m\u001b[0m\n\u001b[1;32m      5\u001b[0m     \u001b[0mDense\u001b[0m\u001b[0;34m(\u001b[0m\u001b[0;36m1\u001b[0m\u001b[0;34m,\u001b[0m \u001b[0mactivation\u001b[0m\u001b[0;34m=\u001b[0m\u001b[0;34m'sigmoid'\u001b[0m\u001b[0;34m)\u001b[0m\u001b[0;34m\u001b[0m\u001b[0;34m\u001b[0m\u001b[0m\n",
            "\u001b[0;31mNameError\u001b[0m: name 'encoder' is not defined"
          ]
        }
      ]
    },
    {
      "cell_type": "code",
      "metadata": {
        "id": "EehgmLuoae3C",
        "colab_type": "code",
        "outputId": "13e3a37c-f995-49f8-e9a5-52b73f5327bf",
        "colab": {
          "base_uri": "https://localhost:8080/",
          "height": 812
        }
      },
      "source": [
        "history = train(model)\n",
        "plot_accuracy_and_loss(history)"
      ],
      "execution_count": 0,
      "outputs": [
        {
          "output_type": "stream",
          "text": [
            "Train for 32 steps, validate for 16 steps\n",
            "Epoch 1/5\n",
            "32/32 [==============================] - 267s 8s/step - loss: 0.6924 - accuracy: 0.5273 - val_loss: 0.6881 - val_accuracy: 0.5811\n",
            "Epoch 2/5\n",
            "32/32 [==============================] - 229s 7s/step - loss: 0.6229 - accuracy: 0.6621 - val_loss: 0.5586 - val_accuracy: 0.7178\n",
            "Epoch 3/5\n",
            "32/32 [==============================] - 225s 7s/step - loss: 0.4797 - accuracy: 0.7671 - val_loss: 0.5450 - val_accuracy: 0.7109\n",
            "Epoch 4/5\n",
            "32/32 [==============================] - 231s 7s/step - loss: 0.4287 - accuracy: 0.8101 - val_loss: 0.6188 - val_accuracy: 0.7568\n",
            "Epoch 5/5\n",
            "32/32 [==============================] - 230s 7s/step - loss: 0.4772 - accuracy: 0.7998 - val_loss: 0.4641 - val_accuracy: 0.7861\n"
          ],
          "name": "stdout"
        },
        {
          "output_type": "display_data",
          "data": {
            "image/png": "[encoded data removed]",
            "text/plain": [
              "<Figure size 720x720 with 2 Axes>"
            ]
          },
          "metadata": {
            "tags": []
          }
        }
      ]
    },
    {
      "cell_type": "markdown",
      "metadata": {
        "id": "ukgggO8qaIKh",
        "colab_type": "text"
      },
      "source": [
        "##ConvNet"
      ]
    },
    {
      "cell_type": "code",
      "metadata": {
        "id": "1vLHgY8QcWRY",
        "colab_type": "code",
        "colab": {}
      },
      "source": [
        "model = Sequential([\n",
        "    Embedding(encoder.vocab_size, 32, mask_zero=True),\n",
        "    Conv1D(32, 3, padding='same', activation = 'relu'),\n",
        "    MaxPooling1D(2),\n",
        "    Bidirectional(LSTM(64)),\n",
        "    Dense(1, activation='sigmoid')\n",
        "])"
      ],
      "execution_count": 0,
      "outputs": []
    },
    {
      "cell_type": "code",
      "metadata": {
        "id": "CbQUXJzTixJO",
        "colab_type": "code",
        "colab": {}
      },
      "source": [
        "history = train(model, epochs=10)\n",
        "plot_accuracy_and_loss(history)"
      ],
      "execution_count": 0,
      "outputs": []
    },
    {
      "cell_type": "markdown",
      "metadata": {
        "id": "KJ1xrgDLkcBS",
        "colab_type": "text"
      },
      "source": [
        "##GRU"
      ]
    },
    {
      "cell_type": "code",
      "metadata": {
        "id": "C9zWBgczkoFr",
        "colab_type": "code",
        "outputId": "a8c7108d-511b-4f9f-da59-4bd199c4e067",
        "colab": {
          "base_uri": "https://localhost:8080/",
          "height": 235
        }
      },
      "source": [
        "model = Sequential([\n",
        "    Embedding(encoder.vocab_size, 32, mask_zero=True),\n",
        "    GRU(64),\n",
        "    Dense(1, activation='sigmoid')\n",
        "])\n",
        "\n",
        "model.summary()\n",
        "\n",
        "history = train(model)\n",
        "plot_accuracy_and_loss(history)"
      ],
      "execution_count": 0,
      "outputs": [
        {
          "output_type": "error",
          "ename": "NameError",
          "evalue": "ignored",
          "traceback": [
            "\u001b[0;31m---------------------------------------------------------------------------\u001b[0m",
            "\u001b[0;31mNameError\u001b[0m                                 Traceback (most recent call last)",
            "\u001b[0;32m<ipython-input-1-5d62f86b5c01>\u001b[0m in \u001b[0;36m<module>\u001b[0;34m()\u001b[0m\n\u001b[0;32m----> 1\u001b[0;31m model = Sequential([\n\u001b[0m\u001b[1;32m      2\u001b[0m     \u001b[0mEmbedding\u001b[0m\u001b[0;34m(\u001b[0m\u001b[0mencoder\u001b[0m\u001b[0;34m.\u001b[0m\u001b[0mvocab_size\u001b[0m\u001b[0;34m,\u001b[0m \u001b[0;36m32\u001b[0m\u001b[0;34m,\u001b[0m \u001b[0mmask_zero\u001b[0m\u001b[0;34m=\u001b[0m\u001b[0;32mTrue\u001b[0m\u001b[0;34m)\u001b[0m\u001b[0;34m,\u001b[0m\u001b[0;34m\u001b[0m\u001b[0;34m\u001b[0m\u001b[0m\n\u001b[1;32m      3\u001b[0m     \u001b[0mGRU\u001b[0m\u001b[0;34m(\u001b[0m\u001b[0;36m64\u001b[0m\u001b[0;34m)\u001b[0m\u001b[0;34m,\u001b[0m\u001b[0;34m\u001b[0m\u001b[0;34m\u001b[0m\u001b[0m\n\u001b[1;32m      4\u001b[0m     \u001b[0mDense\u001b[0m\u001b[0;34m(\u001b[0m\u001b[0;36m1\u001b[0m\u001b[0;34m,\u001b[0m \u001b[0mactivation\u001b[0m\u001b[0;34m=\u001b[0m\u001b[0;34m'sigmoid'\u001b[0m\u001b[0;34m)\u001b[0m\u001b[0;34m\u001b[0m\u001b[0;34m\u001b[0m\u001b[0m\n\u001b[1;32m      5\u001b[0m ])\n",
            "\u001b[0;31mNameError\u001b[0m: name 'Sequential' is not defined"
          ]
        }
      ]
    },
    {
      "cell_type": "code",
      "metadata": {
        "id": "dpKErW7ortmV",
        "colab_type": "code",
        "colab": {}
      },
      "source": [
        "model = Sequential([\n",
        "    Embedding(encoder.vocab_size, 32, mask_zero=True),\n",
        "    Conv1D(32, 3, padding='same', activation = 'relu'),\n",
        "    MaxPooling1D(2),\n",
        "    Bidirectional(GRU(64)),\n",
        "    Dense(1, activation='sigmoid')\n",
        "])\n",
        "\n",
        "model.summary()\n",
        "\n",
        "history = train(model, epochs=10)\n",
        "plot_accuracy_and_loss(history)\n",
        "\n"
      ],
      "execution_count": 0,
      "outputs": []
    }
  ]
}
