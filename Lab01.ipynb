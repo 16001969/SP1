{
  "nbformat": 4,
  "nbformat_minor": 0,
  "metadata": {
    "colab": {
      "name": "Copy of lesson1-image-classifier.ipynb",
      "provenance": [],
      "collapsed_sections": [],
      "machine_shape": "hm"
    },
    "kernelspec": {
      "name": "python3",
      "display_name": "Python 3"
    }
  },
  "cells": [
    {
      "cell_type": "markdown",
      "metadata": {
        "id": "TbG9km9sm36l",
        "colab_type": "text"
      },
      "source": [
        "# Imports"
      ]
    },
    {
      "cell_type": "code",
      "metadata": {
        "id": "dMjrOqHIdn2L",
        "colab_type": "code",
        "colab": {}
      },
      "source": [
        "%tensorflow_version 2.x\n",
        "\n",
        "import tensorflow as tf\n",
        "\n",
        "#from tensorflow.keras.datasets import cifar10\n",
        "from tensorflow.keras.datasets import fashion_mnist\n",
        "from tensorflow.keras.models import Sequential\n",
        "from tensorflow.keras.layers import Dense, Flatten\n",
        "\n",
        "import numpy as np\n",
        "import PIL.Image as Image\n",
        "import matplotlib.pylab as plt\n",
        "\n",
        "#dark mode\n",
        "plt.rc_context({'xtick.color':'w', 'ytick.color':'w', 'text.color':'w', 'axes.labelcolor':'w'})\n",
        "\n",
        "seed=1234\n",
        "np.random.seed(seed)\n",
        "tf.random.set_seed(seed)"
      ],
      "execution_count": 0,
      "outputs": []
    },
    {
      "cell_type": "markdown",
      "metadata": {
        "id": "YDFTdrpJhgeT",
        "colab_type": "text"
      },
      "source": [
        "# Working with a dataset"
      ]
    },
    {
      "cell_type": "markdown",
      "metadata": {
        "id": "MPaFf11CMQwT",
        "colab_type": "text"
      },
      "source": [
        "##Load and explore the dataset"
      ]
    },
    {
      "cell_type": "code",
      "metadata": {
        "id": "PIfFLq3Hd8rb",
        "colab_type": "code",
        "colab": {}
      },
      "source": [
        "(train_images, train_labels), (test_images, test_labels) = fashion_mnist.load_data()"
      ],
      "execution_count": 0,
      "outputs": []
    },
    {
      "cell_type": "code",
      "metadata": {
        "id": "5H9hLXvOedVi",
        "colab_type": "code",
        "outputId": "79f95aec-a0f3-4207-a45c-123bfd38fb4e",
        "colab": {
          "base_uri": "https://localhost:8080/",
          "height": 69
        }
      },
      "source": [
        "print('train_images shape:', train_images.shape)\n",
        "print(train_images.shape[0], 'train samples')\n",
        "print(test_images.shape[0], 'test samples')"
      ],
      "execution_count": 4,
      "outputs": [
        {
          "output_type": "stream",
          "text": [
            "train_images shape: (60000, 28, 28)\n",
            "60000 train samples\n",
            "10000 test samples\n"
          ],
          "name": "stdout"
        }
      ]
    },
    {
      "cell_type": "code",
      "metadata": {
        "id": "OEKjU5W2fnZh",
        "colab_type": "code",
        "colab": {}
      },
      "source": [
        "#class_names = ['plane','car','bird','cat','deer','dog','frog','horse','ship','truck']\n",
        "class_names = ['T-shirt/top','Trouser','Pullover','Dress','Coat','Sandal','Shirt','Sneaker','Bag','Ankle boot']\n",
        "\n"
      ],
      "execution_count": 0,
      "outputs": []
    },
    {
      "cell_type": "code",
      "metadata": {
        "id": "JX71c_gtel2k",
        "colab_type": "code",
        "outputId": "b8e47aa4-893c-45af-f637-6875044ff1fd",
        "colab": {
          "base_uri": "https://localhost:8080/",
          "height": 264
        }
      },
      "source": [
        "plt.imshow(train_images[0])\n",
        "plt.title(class_names[train_labels[0]])\n",
        "plt.axis('off')\n",
        "plt.show()"
      ],
      "execution_count": 7,
      "outputs": [
        {
          "output_type": "display_data",
          "data": {
            "image/png": "[encoded data removed]",
            "text/plain": [
              "<Figure size 432x288 with 1 Axes>"
            ]
          },
          "metadata": {
            "tags": []
          }
        }
      ]
    },
    {
      "cell_type": "markdown",
      "metadata": {
        "id": "iven3TBvxybr",
        "colab_type": "text"
      },
      "source": [
        "## Transform\n",
        "Convert to grayscale, normalize & standarize"
      ]
    },
    {
      "cell_type": "code",
      "metadata": {
        "id": "ZWsLHWocfF5B",
        "colab_type": "code",
        "outputId": "1aa52454-54a6-4ee9-c8e1-aef4311619d9",
        "colab": {
          "base_uri": "https://localhost:8080/",
          "height": 34
        }
      },
      "source": [
        "train_images = (train_images-np.mean(train_images)) / np.std(train_images)\n",
        "#train_images = tf.squeeze(tf.image.rgb_to_grayscale(train_images / 255.0))\n",
        "train_images = tf.squeeze(train_images / 255.0)\n",
        "\n",
        "test_images = (test_images-np.mean(test_images)) / np.std(test_images)\n",
        "#test_images = tf.squeeze(tf.image.rgb_to_grayscale(test_images / 255.0))\n",
        "test_images = tf.squeeze(test_images / 255.0)\n",
        "\n",
        "train_images.shape, test_images.shape"
      ],
      "execution_count": 8,
      "outputs": [
        {
          "output_type": "execute_result",
          "data": {
            "text/plain": [
              "(TensorShape([60000, 28, 28]), TensorShape([10000, 28, 28]))"
            ]
          },
          "metadata": {
            "tags": []
          },
          "execution_count": 8
        }
      ]
    },
    {
      "cell_type": "code",
      "metadata": {
        "id": "fb8TsFEoqBiU",
        "colab_type": "code",
        "outputId": "5273e4b1-c273-47d9-8de3-c2e7f5b069a0",
        "colab": {
          "base_uri": "https://localhost:8080/",
          "height": 281
        }
      },
      "source": [
        "plt.imshow(train_images[0], cmap=plt.cm.binary)\n",
        "plt.title(class_names[train_labels[0]])\n",
        "plt.show()"
      ],
      "execution_count": 9,
      "outputs": [
        {
          "output_type": "display_data",
          "data": {
            "image/png": "[encoded data removed]",
            "text/plain": [
              "<Figure size 432x288 with 1 Axes>"
            ]
          },
          "metadata": {
            "tags": []
          }
        }
      ]
    },
    {
      "cell_type": "markdown",
      "metadata": {
        "id": "y1LaJ8FQx6UR",
        "colab_type": "text"
      },
      "source": [
        "## Explore final dataset"
      ]
    },
    {
      "cell_type": "code",
      "metadata": {
        "id": "6mmCBoh6fGsf",
        "colab_type": "code",
        "outputId": "26b94947-40dd-4405-9d38-982f09ee7f56",
        "colab": {
          "base_uri": "https://localhost:8080/",
          "height": 364
        }
      },
      "source": [
        "plt.figure(figsize=(10,10))\n",
        "for i in range(15):\n",
        "    plt.subplot(5,5,i+1)\n",
        "    plt.xticks([])\n",
        "    plt.yticks([])\n",
        "    plt.grid(False)\n",
        "    plt.imshow(train_images[i], cmap=plt.cm.binary)\n",
        "    plt.xlabel(class_names[train_labels[i]], color='w')\n",
        "plt.show()"
      ],
      "execution_count": 10,
      "outputs": [
        {
          "output_type": "display_data",
          "data": {
            "image/png": "[encoded data removed]",
            "text/plain": [
              "<Figure size 720x720 with 15 Axes>"
            ]
          },
          "metadata": {
            "tags": []
          }
        }
      ]
    },
    {
      "cell_type": "markdown",
      "metadata": {
        "id": "plhAGACudszJ",
        "colab_type": "text"
      },
      "source": [
        "# Build the model"
      ]
    },
    {
      "cell_type": "code",
      "metadata": {
        "id": "mKUNTTEIhmZO",
        "colab_type": "code",
        "colab": {}
      },
      "source": [
        "model = Sequential([\n",
        "    Flatten(input_shape=(28, 28)),\n",
        "    Dense(1024, activation='relu'),\n",
        "    Dense(512, activation='sigmoid'),\n",
        "    Dense(10, activation='softmax')\n",
        "])"
      ],
      "execution_count": 0,
      "outputs": []
    },
    {
      "cell_type": "code",
      "metadata": {
        "id": "BSJra91-hqng",
        "colab_type": "code",
        "colab": {}
      },
      "source": [
        "model.compile(optimizer='sgd',\n",
        "              loss='sparse_categorical_crossentropy',\n",
        "              metrics=['accuracy'])"
      ],
      "execution_count": 0,
      "outputs": []
    },
    {
      "cell_type": "code",
      "metadata": {
        "id": "jlG5YmYFjAhb",
        "colab_type": "code",
        "outputId": "9af845be-c66d-4179-dfcb-da9744d9b88c",
        "colab": {
          "base_uri": "https://localhost:8080/",
          "height": 330
        }
      },
      "source": [
        "model.summary()"
      ],
      "execution_count": 92,
      "outputs": [
        {
          "output_type": "stream",
          "text": [
            "Model: \"sequential_11\"\n",
            "_________________________________________________________________\n",
            "Layer (type)                 Output Shape              Param #   \n",
            "=================================================================\n",
            "flatten_11 (Flatten)         (None, 784)               0         \n",
            "_________________________________________________________________\n",
            "dense_34 (Dense)             (None, 1024)              803840    \n",
            "_________________________________________________________________\n",
            "dense_35 (Dense)             (None, 1024)              1049600   \n",
            "_________________________________________________________________\n",
            "dense_36 (Dense)             (None, 512)               524800    \n",
            "_________________________________________________________________\n",
            "dense_37 (Dense)             (None, 10)                5130      \n",
            "=================================================================\n",
            "Total params: 2,383,370\n",
            "Trainable params: 2,383,370\n",
            "Non-trainable params: 0\n",
            "_________________________________________________________________\n"
          ],
          "name": "stdout"
        }
      ]
    },
    {
      "cell_type": "code",
      "metadata": {
        "colab_type": "code",
        "outputId": "eb1d87f8-f1b6-4181-cdcf-9d5c9228800a",
        "id": "84Ud0hbqqfkf",
        "colab": {
          "base_uri": "https://localhost:8080/",
          "height": 729
        }
      },
      "source": [
        "history = model.fit(train_images, \n",
        "          train_labels, \n",
        "          validation_split=0.3,\n",
        "          epochs=20\n",
        "          )"
      ],
      "execution_count": 93,
      "outputs": [
        {
          "output_type": "stream",
          "text": [
            "Train on 42000 samples, validate on 18000 samples\n",
            "Epoch 1/20\n",
            "42000/42000 [==============================] - 20s 479us/sample - loss: 2.0206 - accuracy: 0.1296 - val_loss: 1.7861 - val_accuracy: 0.0999\n",
            "Epoch 2/20\n",
            "42000/42000 [==============================] - 20s 475us/sample - loss: 1.7602 - accuracy: 0.1009 - val_loss: 1.7424 - val_accuracy: 0.0999\n",
            "Epoch 3/20\n",
            "42000/42000 [==============================] - 20s 481us/sample - loss: 1.7766 - accuracy: 0.1008 - val_loss: 1.7188 - val_accuracy: 0.0999\n",
            "Epoch 4/20\n",
            "42000/42000 [==============================] - 21s 496us/sample - loss: 1.6874 - accuracy: 0.1079 - val_loss: 1.6711 - val_accuracy: 0.1001\n",
            "Epoch 5/20\n",
            "42000/42000 [==============================] - 20s 482us/sample - loss: 1.6700 - accuracy: 0.1019 - val_loss: 1.6524 - val_accuracy: 0.1001\n",
            "Epoch 6/20\n",
            "42000/42000 [==============================] - 20s 484us/sample - loss: 4.4865 - accuracy: 0.1007 - val_loss: 4.8444 - val_accuracy: 0.0999\n",
            "Epoch 7/20\n",
            "42000/42000 [==============================] - 20s 483us/sample - loss: 4.7974 - accuracy: 0.1000 - val_loss: 4.8348 - val_accuracy: 0.0999\n",
            "Epoch 8/20\n",
            "42000/42000 [==============================] - 20s 486us/sample - loss: 6.5912 - accuracy: 0.1029 - val_loss: 8.1603 - val_accuracy: 0.0999\n",
            "Epoch 9/20\n",
            "42000/42000 [==============================] - 20s 481us/sample - loss: 8.0772 - accuracy: 0.1000 - val_loss: 8.1592 - val_accuracy: 0.0999\n",
            "Epoch 10/20\n",
            "42000/42000 [==============================] - 20s 471us/sample - loss: 8.0759 - accuracy: 0.1000 - val_loss: 8.1576 - val_accuracy: 0.0999\n",
            "Epoch 11/20\n",
            "42000/42000 [==============================] - 20s 468us/sample - loss: 6.7308 - accuracy: 0.1023 - val_loss: 5.0880 - val_accuracy: 0.1003\n",
            "Epoch 12/20\n",
            "42000/42000 [==============================] - 20s 468us/sample - loss: 5.0366 - accuracy: 0.1110 - val_loss: 5.0838 - val_accuracy: 0.1019\n",
            "Epoch 13/20\n",
            "42000/42000 [==============================] - 20s 474us/sample - loss: 5.0289 - accuracy: 0.1281 - val_loss: 5.0748 - val_accuracy: 0.1806\n",
            "Epoch 14/20\n",
            "42000/42000 [==============================] - 20s 471us/sample - loss: 5.0347 - accuracy: 0.1326 - val_loss: 5.0743 - val_accuracy: 0.1514\n",
            "Epoch 15/20\n",
            "42000/42000 [==============================] - 19s 457us/sample - loss: 5.0367 - accuracy: 0.1390 - val_loss: 5.0726 - val_accuracy: 0.1756\n",
            "Epoch 16/20\n",
            "42000/42000 [==============================] - 19s 448us/sample - loss: 5.0324 - accuracy: 0.1397 - val_loss: 5.0770 - val_accuracy: 0.1182\n",
            "Epoch 17/20\n",
            "42000/42000 [==============================] - 19s 442us/sample - loss: 5.0360 - accuracy: 0.1537 - val_loss: 5.0858 - val_accuracy: 0.1622\n",
            "Epoch 18/20\n",
            "42000/42000 [==============================] - 19s 457us/sample - loss: 5.0329 - accuracy: 0.1648 - val_loss: 5.1823 - val_accuracy: 0.1862\n",
            "Epoch 19/20\n",
            "42000/42000 [==============================] - 20s 473us/sample - loss: 5.0377 - accuracy: 0.1638 - val_loss: 5.0719 - val_accuracy: 0.1541\n",
            "Epoch 20/20\n",
            "42000/42000 [==============================] - 21s 498us/sample - loss: 5.0368 - accuracy: 0.1555 - val_loss: 5.0743 - val_accuracy: 0.1826\n"
          ],
          "name": "stdout"
        }
      ]
    },
    {
      "cell_type": "markdown",
      "metadata": {
        "id": "IJ5zvQjgkF4C",
        "colab_type": "text"
      },
      "source": [
        "# Evaluate"
      ]
    },
    {
      "cell_type": "code",
      "metadata": {
        "id": "7GeqyQTvsjmD",
        "colab_type": "code",
        "colab": {}
      },
      "source": [
        "acc = history.history['accuracy']\n",
        "val_acc = history.history['val_accuracy']\n",
        "\n",
        "loss = history.history['loss']\n",
        "val_loss = history.history['val_loss']\n",
        "\n",
        "plt.figure(figsize=(10, 10))\n",
        "plt.subplot(2, 1, 1)\n",
        "plt.plot(acc, label='Training Accuracy')\n",
        "plt.plot(val_acc, label='Validation Accuracy')\n",
        "plt.legend(loc='lower right')\n",
        "plt.setp(plt.legend().get_texts(), color='black')\n",
        "plt.ylabel('Accuracy')\n",
        "plt.ylim([min(plt.ylim()),0.7])\n",
        "plt.title('Training and Validation Accuracy')\n",
        "\n",
        "plt.subplot(2, 1, 2)\n",
        "plt.plot(loss, label='Training Loss')\n",
        "plt.plot(val_loss, label='Validation Loss')\n",
        "plt.legend(loc='upper right')\n",
        "plt.setp(plt.legend().get_texts(), color='black')\n",
        "plt.ylabel('Cross Entropy')\n",
        "plt.ylim([0.5,2.0])\n",
        "plt.title('Training and Validation Loss')\n",
        "plt.xlabel('epoch')\n",
        "plt.show()\n"
      ],
      "execution_count": 0,
      "outputs": []
    },
    {
      "cell_type": "code",
      "metadata": {
        "id": "D1V31yORhsBr",
        "colab_type": "code",
        "outputId": "711af4da-dc45-4dd3-c5df-0c3a9abaee3b",
        "colab": {
          "base_uri": "https://localhost:8080/",
          "height": 363
        }
      },
      "source": [
        "test_loss, test_acc = model.evaluate(test_images,  test_labels, verbose=3)\n",
        "\n",
        "print('Loss:', test_loss)\n",
        "print('Accuracy:', test_acc)"
      ],
      "execution_count": 89,
      "outputs": [
        {
          "output_type": "error",
          "ename": "RuntimeError",
          "evalue": "ignored",
          "traceback": [
            "\u001b[0;31m---------------------------------------------------------------------------\u001b[0m",
            "\u001b[0;31mRuntimeError\u001b[0m                              Traceback (most recent call last)",
            "\u001b[0;32m<ipython-input-89-b7f9232462e5>\u001b[0m in \u001b[0;36m<module>\u001b[0;34m()\u001b[0m\n\u001b[0;32m----> 1\u001b[0;31m \u001b[0mtest_loss\u001b[0m\u001b[0;34m,\u001b[0m \u001b[0mtest_acc\u001b[0m \u001b[0;34m=\u001b[0m \u001b[0mmodel\u001b[0m\u001b[0;34m.\u001b[0m\u001b[0mevaluate\u001b[0m\u001b[0;34m(\u001b[0m\u001b[0mtest_images\u001b[0m\u001b[0;34m,\u001b[0m  \u001b[0mtest_labels\u001b[0m\u001b[0;34m,\u001b[0m \u001b[0mverbose\u001b[0m\u001b[0;34m=\u001b[0m\u001b[0;36m3\u001b[0m\u001b[0;34m)\u001b[0m\u001b[0;34m\u001b[0m\u001b[0;34m\u001b[0m\u001b[0m\n\u001b[0m\u001b[1;32m      2\u001b[0m \u001b[0;34m\u001b[0m\u001b[0m\n\u001b[1;32m      3\u001b[0m \u001b[0mprint\u001b[0m\u001b[0;34m(\u001b[0m\u001b[0;34m'Loss:'\u001b[0m\u001b[0;34m,\u001b[0m \u001b[0mtest_loss\u001b[0m\u001b[0;34m)\u001b[0m\u001b[0;34m\u001b[0m\u001b[0;34m\u001b[0m\u001b[0m\n\u001b[1;32m      4\u001b[0m \u001b[0mprint\u001b[0m\u001b[0;34m(\u001b[0m\u001b[0;34m'Accuracy:'\u001b[0m\u001b[0;34m,\u001b[0m \u001b[0mtest_acc\u001b[0m\u001b[0;34m)\u001b[0m\u001b[0;34m\u001b[0m\u001b[0;34m\u001b[0m\u001b[0m\n",
            "\u001b[0;32m/tensorflow-2.1.0/python3.6/tensorflow_core/python/keras/engine/training.py\u001b[0m in \u001b[0;36mevaluate\u001b[0;34m(self, x, y, batch_size, verbose, sample_weight, steps, callbacks, max_queue_size, workers, use_multiprocessing)\u001b[0m\n\u001b[1;32m    913\u001b[0m     \"\"\"\n\u001b[1;32m    914\u001b[0m     \u001b[0m_keras_api_gauge\u001b[0m\u001b[0;34m.\u001b[0m\u001b[0mget_cell\u001b[0m\u001b[0;34m(\u001b[0m\u001b[0;34m'evaluate'\u001b[0m\u001b[0;34m)\u001b[0m\u001b[0;34m.\u001b[0m\u001b[0mset\u001b[0m\u001b[0;34m(\u001b[0m\u001b[0;32mTrue\u001b[0m\u001b[0;34m)\u001b[0m\u001b[0;34m\u001b[0m\u001b[0;34m\u001b[0m\u001b[0m\n\u001b[0;32m--> 915\u001b[0;31m     \u001b[0mself\u001b[0m\u001b[0;34m.\u001b[0m\u001b[0m_assert_compile_was_called\u001b[0m\u001b[0;34m(\u001b[0m\u001b[0;34m)\u001b[0m\u001b[0;34m\u001b[0m\u001b[0;34m\u001b[0m\u001b[0m\n\u001b[0m\u001b[1;32m    916\u001b[0m     \u001b[0mself\u001b[0m\u001b[0;34m.\u001b[0m\u001b[0m_check_call_args\u001b[0m\u001b[0;34m(\u001b[0m\u001b[0;34m'evaluate'\u001b[0m\u001b[0;34m)\u001b[0m\u001b[0;34m\u001b[0m\u001b[0;34m\u001b[0m\u001b[0m\n\u001b[1;32m    917\u001b[0m \u001b[0;34m\u001b[0m\u001b[0m\n",
            "\u001b[0;32m/tensorflow-2.1.0/python3.6/tensorflow_core/python/keras/engine/training.py\u001b[0m in \u001b[0;36m_assert_compile_was_called\u001b[0;34m(self)\u001b[0m\n\u001b[1;32m   2826\u001b[0m     \u001b[0;31m# (i.e. whether the model is built and its inputs/outputs are set).\u001b[0m\u001b[0;34m\u001b[0m\u001b[0;34m\u001b[0m\u001b[0;34m\u001b[0m\u001b[0m\n\u001b[1;32m   2827\u001b[0m     \u001b[0;32mif\u001b[0m \u001b[0;32mnot\u001b[0m \u001b[0mself\u001b[0m\u001b[0;34m.\u001b[0m\u001b[0moptimizer\u001b[0m\u001b[0;34m:\u001b[0m\u001b[0;34m\u001b[0m\u001b[0;34m\u001b[0m\u001b[0m\n\u001b[0;32m-> 2828\u001b[0;31m       raise RuntimeError('You must compile your model before '\n\u001b[0m\u001b[1;32m   2829\u001b[0m                          \u001b[0;34m'training/testing. '\u001b[0m\u001b[0;34m\u001b[0m\u001b[0;34m\u001b[0m\u001b[0m\n\u001b[1;32m   2830\u001b[0m                          'Use `model.compile(optimizer, loss)`.')\n",
            "\u001b[0;31mRuntimeError\u001b[0m: You must compile your model before training/testing. Use `model.compile(optimizer, loss)`."
          ]
        }
      ]
    },
    {
      "cell_type": "markdown",
      "metadata": {
        "id": "eerMeVUskHw3",
        "colab_type": "text"
      },
      "source": [
        "# Make predictions"
      ]
    },
    {
      "cell_type": "code",
      "metadata": {
        "id": "Xi5yFJ-fi1-1",
        "colab_type": "code",
        "outputId": "a79be685-2745-4e59-b0b1-3d2db0a936a6",
        "colab": {
          "base_uri": "https://localhost:8080/",
          "height": 316
        }
      },
      "source": [
        "img_index = np.random.randint(test_images.shape[0])\n",
        "img = test_images[img_index]\n",
        "\n",
        "predictions = model.predict(tf.expand_dims(img, 0))\n",
        "\n",
        "plt.imshow(img, cmap=plt.cm.binary)\n",
        "plt.title(class_names[test_labels[img_index]])\n",
        "plt.show()\n",
        "print('\\nPredicted class is:', class_names[np.argmax(predictions[0])])"
      ],
      "execution_count": 84,
      "outputs": [
        {
          "output_type": "display_data",
          "data": {
            "image/png": "[encoded data removed]",
            "text/plain": [
              "<Figure size 432x288 with 1 Axes>"
            ]
          },
          "metadata": {
            "tags": []
          }
        },
        {
          "output_type": "stream",
          "text": [
            "\n",
            "Predicted class is: Ankle boot\n"
          ],
          "name": "stdout"
        }
      ]
    },
    {
      "cell_type": "code",
      "metadata": {
        "id": "pl7ukWvwmB8_",
        "colab_type": "code",
        "outputId": "a2dc21f8-aa0f-4a21-c663-2b8ba8c3cf9f",
        "colab": {
          "base_uri": "https://localhost:8080/",
          "height": 300
        }
      },
      "source": [
        "test_image = tf.keras.utils.get_file('sneaker.jpg','https://c.static-nike.com/a/images/c_limit,w_318,f_auto/t_product_v1/jomszuqr8gw3h18xhpro/air-force-1-07-mens-shoe-JkTGzADv.jpg')\n",
        "test_image = Image.open(test_image).resize((28,28)).convert('L')\n",
        "test_image = np.array(test_image)/255.0\n",
        "predictions = model.predict(tf.expand_dims(test_image, 0))\n",
        "\n",
        "plt.imshow(test_image, cmap=plt.cm.binary)\n",
        "print('\\nPredicted class is:', class_names[np.argmax(predictions[0])])"
      ],
      "execution_count": 85,
      "outputs": [
        {
          "output_type": "stream",
          "text": [
            "\n",
            "Predicted class is: Bag\n"
          ],
          "name": "stdout"
        },
        {
          "output_type": "display_data",
          "data": {
            "image/png": "[encoded data removed]",
            "text/plain": [
              "<Figure size 432x288 with 1 Axes>"
            ]
          },
          "metadata": {
            "tags": []
          }
        }
      ]
    }
  ]
}
